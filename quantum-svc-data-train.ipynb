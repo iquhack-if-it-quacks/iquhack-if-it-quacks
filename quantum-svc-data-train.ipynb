{
 "cells": [
  {
   "cell_type": "code",
   "execution_count": 1,
   "metadata": {
    "collapsed": true
   },
   "outputs": [],
   "source": [
    "X = []\n",
    "Y = []\n",
    "\n",
    "for line in open('train_data.txt').readlines():\n",
    "    line = line.strip()\n",
    "    a = line.index('[')\n",
    "    b = line.index(']')\n",
    "    grid = list(map(int, line[a+1: b].split(', ')))\n",
    "    result = int(line[b+1:].strip())\n",
    "    X.append(grid)\n",
    "    Y.append((result == 0, result == 1))"
   ]
  },
  {
   "cell_type": "code",
   "execution_count": 2,
   "outputs": [],
   "source": [
    "import numpy as np\n",
    "from sklearn.decomposition import PCA\n",
    "from sklearn.preprocessing import MinMaxScaler\n",
    "\n",
    "X = np.array(X)\n",
    "Y = np.array(Y)\n",
    "\n",
    "pca = PCA(n_components=7)\n",
    "X = pca.fit_transform(X)  # the device only has 7 cores so we should use PCA to reduce the dimensions\n",
    "\n",
    "scaler = MinMaxScaler(feature_range=(0, np.pi))\n",
    "X = scaler.fit_transform(X)"
   ],
   "metadata": {
    "collapsed": false
   }
  },
  {
   "cell_type": "code",
   "execution_count": 3,
   "outputs": [],
   "source": [
    "from sklearn.model_selection import train_test_split\n",
    "\n",
    "\n",
    "train_features, test_features, train_labels, test_labels = train_test_split(\n",
    "    X, Y, train_size=0.7, shuffle=True\n",
    ")"
   ],
   "metadata": {
    "collapsed": false
   }
  },
  {
   "cell_type": "code",
   "execution_count": 4,
   "outputs": [],
   "source": [
    "# number of qubits is equal to the number of features\n",
    "num_qubits = 2\n",
    "\n",
    "# number of steps performed during the training procedure\n",
    "tau = 100\n",
    "\n",
    "# regularization parameter\n",
    "C = 2000"
   ],
   "metadata": {
    "collapsed": false
   }
  },
  {
   "cell_type": "code",
   "execution_count": 5,
   "outputs": [],
   "source": [
    "from qiskit import *\n",
    "IBMQ.providers()\n",
    "from qiskit.utils import QuantumInstance\n",
    "from qiskit_machine_learning.kernels import QuantumKernel\n",
    "from qiskit.utils import algorithm_globals\n",
    "from qiskit.circuit.library import ZFeatureMap\n",
    "from qiskit_machine_learning.algorithms import PegasosQSVC\n",
    "\n",
    "\n",
    "from qiskit.visualization import plot_histogram\n",
    "\n",
    "IBMQ.save_account('53fbe5f38c448c1c5d19a96fa47bd10ee765b1a9721453022212a2f5b3b29c0fb75a665962ef38dd5fde63cd26ddb2cd9d86fe78c9a37b947ff91e6bf911b0ea', overwrite=True)\n",
    "\n",
    "IBMQ.load_account()\n",
    "\n",
    "provider = IBMQ.get_provider(hub = 'ibm-q')\n",
    "\n",
    "# devices = provider.backends()\n",
    "# for _device in devices:\n",
    "#     print(_device.name(), _device.configuration().n_qubits)\n",
    "#     if _device.configuration().n_qubits >= 9:\n",
    "#         device = _device\n",
    "# device = provider.get_backend('ibm_oslo')\n",
    "\n",
    "\n",
    "from qiskit import BasicAer\n",
    "backend = BasicAer.get_backend('qasm_simulator')\n",
    "quantum_instance = QuantumInstance(backend, shots=1024, seed_simulator=10598, seed_transpiler=10598)"
   ],
   "metadata": {
    "collapsed": false
   }
  },
  {
   "cell_type": "code",
   "execution_count": 6,
   "outputs": [
    {
     "data": {
      "text/plain": "<qiskit_machine_learning.algorithms.classifiers.pegasos_qsvc.PegasosQSVC at 0x7f158b746500>"
     },
     "execution_count": 6,
     "metadata": {},
     "output_type": "execute_result"
    }
   ],
   "source": [
    "from qiskit_machine_learning.kernels import QuantumKernel\n",
    "\n",
    "algorithm_globals.random_seed = 12345\n",
    "\n",
    "feature_map = ZFeatureMap(feature_dimension=num_qubits, reps=1)\n",
    "# pegasos_backend = QuantumInstance(backend = device)\n",
    "qkernel = QuantumKernel(feature_map=feature_map, quantum_instance=quantum_instance)\n",
    "pegasos_qsvc0 = PegasosQSVC(quantum_kernel=qkernel, C=C, num_steps=tau)\n",
    "pegasos_qsvc0.fit(train_features, train_labels[:, 0])\n",
    "\n",
    "\n",
    "feature_map = ZFeatureMap(feature_dimension=num_qubits, reps=1)\n",
    "# pegasos_backend = QuantumInstance(backend = device)\n",
    "qkernel = QuantumKernel(feature_map=feature_map, quantum_instance=quantum_instance)\n",
    "pegasos_qsvc1 = PegasosQSVC(quantum_kernel=qkernel, C=C, num_steps=tau)\n",
    "pegasos_qsvc1.fit(train_features, train_labels[:, 1])"
   ],
   "metadata": {
    "collapsed": false
   }
  },
  {
   "cell_type": "code",
   "execution_count": 7,
   "outputs": [
    {
     "name": "stdout",
     "output_type": "stream",
     "text": [
      "PegasosQSVC01 classification test score: 0.675\n",
      "PegasosQSVC1 classification test score: 0.585\n",
      "both test score: 0.45\n"
     ]
    }
   ],
   "source": [
    "# testing\n",
    "pred1 = np.array(pegasos_qsvc1.predict(test_features[:200]))\n",
    "pred0 = np.array(pegasos_qsvc0.predict(test_features[:200]))\n",
    "y1 = np.array(test_labels[:200, 1])\n",
    "y0 = np.array(test_labels[:200, 0])\n",
    "\n",
    "print(f\"PegasosQSVC01 classification test score: {sum(pred1 == y1) / len(pred1)}\")\n",
    "\n",
    "pegasos_score1 = pegasos_qsvc1.score(test_features[:200], test_labels[:200, 0])\n",
    "print(f\"PegasosQSVC1 classification test score: {sum(pred0 == y0) / len(pred0)}\")\n",
    "\n",
    "print(f\"both test score: {sum((pred1 == y1) & (pred0 == y0)) / len(pred1)}\")"
   ],
   "metadata": {
    "collapsed": false
   }
  },
  {
   "cell_type": "code",
   "execution_count": 8,
   "outputs": [
    {
     "name": "stdout",
     "output_type": "stream",
     "text": [
      "True True\n",
      "False True\n",
      "False True\n",
      "False True\n",
      "True False\n",
      "True False\n",
      "True True\n",
      "True True\n",
      "True False\n",
      "True False\n",
      "False True\n",
      "False False\n",
      "True True\n",
      "False True\n",
      "True False\n",
      "True False\n",
      "True False\n",
      "True False\n",
      "True True\n",
      "True False\n",
      "True False\n",
      "False True\n",
      "True False\n",
      "True False\n",
      "True True\n",
      "True False\n",
      "False True\n",
      "True True\n",
      "True False\n",
      "True False\n"
     ]
    }
   ],
   "source": [
    "for a, b in zip(pegasos_qsvc1.predict(test_features[:30]), test_labels[:30, 0]):\n",
    "    print(a, b)"
   ],
   "metadata": {
    "collapsed": false
   }
  },
  {
   "cell_type": "code",
   "execution_count": 9,
   "outputs": [],
   "source": [
    "import pickle\n",
    "from sklearn.pipeline import Pipeline\n",
    "from wrapper import Wrapper\n",
    "\n",
    "pipe0 = Pipeline([('dim-reduction', pca), ('scaler', scaler), ('qsvc', pegasos_qsvc0)])\n",
    "pipe1 = Pipeline([('dim-reduction', pca), ('scaler', scaler), ('qsvc', pegasos_qsvc1)])\n",
    "\n",
    "pickle.dump(Wrapper(pipe0=pipe0, pipe1=pipe1), open('quantum-svc-model.pkl', 'wb'))\n",
    "pickle.dump(pipe1, open('quantum-svc-model1.pkl', 'wb'))"
   ],
   "metadata": {
    "collapsed": false
   }
  }
 ],
 "metadata": {
  "kernelspec": {
   "display_name": "Python 3",
   "language": "python",
   "name": "python3"
  },
  "language_info": {
   "codemirror_mode": {
    "name": "ipython",
    "version": 2
   },
   "file_extension": ".py",
   "mimetype": "text/x-python",
   "name": "python",
   "nbconvert_exporter": "python",
   "pygments_lexer": "ipython2",
   "version": "2.7.6"
  }
 },
 "nbformat": 4,
 "nbformat_minor": 0
}
