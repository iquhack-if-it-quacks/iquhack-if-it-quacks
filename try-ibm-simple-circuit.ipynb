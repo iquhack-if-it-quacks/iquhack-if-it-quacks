{
 "cells": [
  {
   "cell_type": "code",
   "execution_count": 17,
   "id": "0726af84",
   "metadata": {},
   "outputs": [
    {
     "name": "stdout",
     "output_type": "stream",
     "text": [
      "     ┌───┐     ┌─┐   \n",
      "q_0: ┤ H ├──■──┤M├───\n",
      "     └───┘┌─┴─┐└╥┘┌─┐\n",
      "q_1: ─────┤ X ├─╫─┤M├\n",
      "          └───┘ ║ └╥┘\n",
      "c: 2/═══════════╩══╩═\n",
      "                0  1 \n"
     ]
    }
   ],
   "source": [
    "from qiskit import *\n",
    "\n",
    "from qiskit.visualization import plot_histogram\n",
    "\n",
    "circuit = QuantumCircuit(2,2)\n",
    "\n",
    "circuit.h(0)\n",
    "\n",
    "circuit.cx(0,1)\n",
    "\n",
    "circuit.measure([0,1], [0,1])\n",
    "\n",
    "\n",
    "print(circuit)"
   ]
  },
  {
   "cell_type": "code",
   "execution_count": 35,
   "id": "e7a2ef84",
   "metadata": {
    "scrolled": true
   },
   "outputs": [
    {
     "name": "stderr",
     "output_type": "stream",
     "text": [
      "ibmqfactory.load_account:WARNING:2023-01-29 01:29:27,403: Credentials are already in use. The existing account in the session will be replaced.\n"
     ]
    },
    {
     "name": "stdout",
     "output_type": "stream",
     "text": [
      "63d6124c75f7ef4eed6cdb4d\n",
      "Job Status: job has successfully run\n"
     ]
    },
    {
     "data": {
      "image/png": "[encoded data removed]",
      "text/plain": [
       "<Figure size 504x360 with 1 Axes>"
      ]
     },
     "execution_count": 35,
     "metadata": {},
     "output_type": "execute_result"
    }
   ],
   "source": [
    "IBMQ.save_account('53fbe5f38c448c1c5d19a96fa47bd10ee765b1a9721453022212a2f5b3b29c0fb75a665962ef38dd5fde63cd26ddb2cd9d86fe78c9a37b947ff91e6bf911b0ea', overwrite=True)\n",
    "\n",
    "IBMQ.load_account()\n",
    "\n",
    "provider = IBMQ.get_provider(hub = 'ibm-q')\n",
    "\n",
    "device = provider.backends()[0]\n",
    "\n",
    "#device = provider.get_backend('ibm_oslo')\n",
    "\n",
    "\n",
    "#get_backend('ibmq_16_melbourne')\n",
    "\n",
    "job = execute(circuit,backend = device,shots = 1024)\n",
    "\n",
    "print(job.job_id())\n",
    "\n",
    "from qiskit.tools.monitor import job_monitor\n",
    "\n",
    "job_monitor(job)\n",
    "\n",
    "device_result = job.result()\n",
    "\n",
    "plot_histogram(device_result.get_counts(circuit))"
   ]
  },
  {
   "cell_type": "code",
   "execution_count": null,
   "id": "19359ba7",
   "metadata": {},
   "outputs": [],
   "source": []
  }
 ],
 "metadata": {
  "kernelspec": {
   "display_name": "Python 3 (ipykernel)",
   "language": "python",
   "name": "python3"
  },
  "language_info": {
   "codemirror_mode": {
    "name": "ipython",
    "version": 3
   },
   "file_extension": ".py",
   "mimetype": "text/x-python",
   "name": "python",
   "nbconvert_exporter": "python",
   "pygments_lexer": "ipython3",
   "version": "3.8.12"
  }
 },
 "nbformat": 4,
 "nbformat_minor": 5
}
