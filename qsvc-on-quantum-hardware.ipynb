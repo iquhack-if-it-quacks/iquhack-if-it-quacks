{
 "cells": [
  {
   "cell_type": "code",
   "execution_count": 27,
   "id": "fb05dcce",
   "metadata": {},
   "outputs": [],
   "source": [
    "X = []\n",
    "Y = []\n",
    "\n",
    "for line in open('train_data.txt').readlines():\n",
    "    line = line.strip()\n",
    "    a = line.index('[')\n",
    "    b = line.index(']')\n",
    "    grid = list(map(int, line[a+1: b].split(', ')))\n",
    "    result = int(line[b+1:].strip())\n",
    "    X.append(grid)\n",
    "    Y.append(result)"
   ]
  },
  {
   "cell_type": "code",
   "execution_count": 28,
   "outputs": [],
   "source": [
    "import numpy as np\n",
    "from sklearn.decomposition import PCA\n",
    "\n",
    "X = np.array(X)\n",
    "Y = np.array(Y)\n",
    "\n",
    "\n",
    "# seeing -1 as 0 because there are only few cases like that\n",
    "# qsvc doesn't support non-binary classification\n",
    "\n",
    "Y[Y == -1] = 0\n",
    "pca = PCA(n_components=7)\n",
    "X = pca.fit_transform(X)  # the device only has 7 cores so we should use PCA to reduce the dimensions"
   ],
   "metadata": {
    "collapsed": false
   }
  },
  {
   "cell_type": "code",
   "execution_count": 29,
   "id": "4ddbcd43",
   "metadata": {},
   "outputs": [],
   "source": [
    "from sklearn.model_selection import train_test_split\n",
    "from sklearn.preprocessing import MinMaxScaler\n",
    "\n",
    "features = MinMaxScaler(feature_range=(0, np.pi)).fit_transform(X)\n",
    "\n",
    "train_features, test_features, train_labels, test_labels = train_test_split(\n",
    "    X, Y, train_size=0.7, shuffle=True\n",
    ")"
   ]
  },
  {
   "cell_type": "code",
   "execution_count": 11,
   "id": "b16dae26",
   "metadata": {},
   "outputs": [],
   "source": [
    "# number of qubits is equal to the number of features\n",
    "num_qubits = 2\n",
    "\n",
    "# number of steps performed during the training procedure\n",
    "tau = 100\n",
    "\n",
    "# regularization parameter\n",
    "C = 1000"
   ]
  },
  {
   "cell_type": "code",
   "execution_count": 23,
   "id": "2ce3b2d9",
   "metadata": {},
   "outputs": [
    {
     "name": "stderr",
     "output_type": "stream",
     "text": [
      "ibmqfactory.load_account:WARNING:2023-01-29 04:34:30,349: Credentials are already in use. The existing account in the session will be replaced.\n"
     ]
    }
   ],
   "source": [
    "from qiskit import *\n",
    "IBMQ.providers()\n",
    "from qiskit.utils import QuantumInstance\n",
    "from qiskit_machine_learning.kernels import QuantumKernel\n",
    "from qiskit.utils import algorithm_globals\n",
    "from qiskit.circuit.library import ZFeatureMap\n",
    "from qiskit_machine_learning.algorithms import PegasosQSVC\n",
    "\n",
    "\n",
    "from qiskit.visualization import plot_histogram\n",
    "\n",
    "IBMQ.save_account('53fbe5f38c448c1c5d19a96fa47bd10ee765b1a9721453022212a2f5b3b29c0fb75a665962ef38dd5fde63cd26ddb2cd9d86fe78c9a37b947ff91e6bf911b0ea', overwrite=True)\n",
    "\n",
    "IBMQ.load_account()\n",
    "\n",
    "provider = IBMQ.get_provider(hub = 'ibm-q')\n",
    "\n",
    "# devices = provider.backends()\n",
    "# for _device in devices:\n",
    "#     print(_device.name(), _device.configuration().n_qubits)\n",
    "#     if _device.configuration().n_qubits >= 9:\n",
    "#         device = _device\n",
    "device = provider.get_backend('ibm_oslo')"
   ]
  },
  {
   "cell_type": "code",
   "execution_count": 31,
   "id": "a5a733d8",
   "metadata": {},
   "outputs": [
    {
     "ename": "KeyboardInterrupt",
     "evalue": "",
     "output_type": "error",
     "traceback": [
      "\u001B[0;31m---------------------------------------------------------------------------\u001B[0m",
      "\u001B[0;31mKeyboardInterrupt\u001B[0m                         Traceback (most recent call last)",
      "Cell \u001B[0;32mIn[31], line 13\u001B[0m\n\u001B[1;32m      9\u001B[0m qkernel \u001B[38;5;241m=\u001B[39m QuantumKernel(feature_map\u001B[38;5;241m=\u001B[39mfeature_map, quantum_instance\u001B[38;5;241m=\u001B[39mpegasos_backend)\n\u001B[1;32m     11\u001B[0m pegasos_qsvc \u001B[38;5;241m=\u001B[39m PegasosQSVC(quantum_kernel\u001B[38;5;241m=\u001B[39mqkernel, C\u001B[38;5;241m=\u001B[39mC, num_steps\u001B[38;5;241m=\u001B[39mtau)\n\u001B[0;32m---> 13\u001B[0m \u001B[43mpegasos_qsvc\u001B[49m\u001B[38;5;241;43m.\u001B[39;49m\u001B[43mfit\u001B[49m\u001B[43m(\u001B[49m\u001B[43mtrain_features\u001B[49m\u001B[43m,\u001B[49m\u001B[43m \u001B[49m\u001B[43mtrain_labels\u001B[49m\u001B[43m)\u001B[49m\n\u001B[1;32m     16\u001B[0m \u001B[38;5;66;03m# testing\u001B[39;00m\n\u001B[1;32m     17\u001B[0m pegasos_score \u001B[38;5;241m=\u001B[39m pegasos_qsvc\u001B[38;5;241m.\u001B[39mscore(test_features, test_labels)\n",
      "File \u001B[0;32m~/.local/lib/python3.10/site-packages/qiskit_machine_learning/algorithms/classifiers/pegasos_qsvc.py:194\u001B[0m, in \u001B[0;36mPegasosQSVC.fit\u001B[0;34m(self, X, y, sample_weight)\u001B[0m\n\u001B[1;32m    190\u001B[0m \u001B[38;5;28;01mfor\u001B[39;00m step \u001B[38;5;129;01min\u001B[39;00m \u001B[38;5;28mrange\u001B[39m(\u001B[38;5;241m1\u001B[39m, \u001B[38;5;28mself\u001B[39m\u001B[38;5;241m.\u001B[39m_num_steps \u001B[38;5;241m+\u001B[39m \u001B[38;5;241m1\u001B[39m):\n\u001B[1;32m    191\u001B[0m     \u001B[38;5;66;03m# for every step, a random index (determining a random datum) is fixed\u001B[39;00m\n\u001B[1;32m    192\u001B[0m     i \u001B[38;5;241m=\u001B[39m algorithm_globals\u001B[38;5;241m.\u001B[39mrandom\u001B[38;5;241m.\u001B[39mintegers(\u001B[38;5;241m0\u001B[39m, \u001B[38;5;28mlen\u001B[39m(y))\n\u001B[0;32m--> 194\u001B[0m     value \u001B[38;5;241m=\u001B[39m \u001B[38;5;28;43mself\u001B[39;49m\u001B[38;5;241;43m.\u001B[39;49m\u001B[43m_compute_weighted_kernel_sum\u001B[49m\u001B[43m(\u001B[49m\u001B[43mi\u001B[49m\u001B[43m,\u001B[49m\u001B[43m \u001B[49m\u001B[43mX\u001B[49m\u001B[43m,\u001B[49m\u001B[43m \u001B[49m\u001B[43mtraining\u001B[49m\u001B[38;5;241;43m=\u001B[39;49m\u001B[38;5;28;43;01mTrue\u001B[39;49;00m\u001B[43m)\u001B[49m\n\u001B[1;32m    196\u001B[0m     \u001B[38;5;28;01mif\u001B[39;00m (\u001B[38;5;28mself\u001B[39m\u001B[38;5;241m.\u001B[39m_label_map[y[i]] \u001B[38;5;241m*\u001B[39m \u001B[38;5;28mself\u001B[39m\u001B[38;5;241m.\u001B[39mC \u001B[38;5;241m/\u001B[39m step) \u001B[38;5;241m*\u001B[39m value \u001B[38;5;241m<\u001B[39m \u001B[38;5;241m1\u001B[39m:\n\u001B[1;32m    197\u001B[0m         \u001B[38;5;66;03m# only way for a component of alpha to become non zero\u001B[39;00m\n\u001B[1;32m    198\u001B[0m         \u001B[38;5;28mself\u001B[39m\u001B[38;5;241m.\u001B[39m_alphas[i] \u001B[38;5;241m=\u001B[39m \u001B[38;5;28mself\u001B[39m\u001B[38;5;241m.\u001B[39m_alphas\u001B[38;5;241m.\u001B[39mget(i, \u001B[38;5;241m0\u001B[39m) \u001B[38;5;241m+\u001B[39m \u001B[38;5;241m1\u001B[39m\n",
      "File \u001B[0;32m~/.local/lib/python3.10/site-packages/qiskit_machine_learning/algorithms/classifiers/pegasos_qsvc.py:296\u001B[0m, in \u001B[0;36mPegasosQSVC._compute_weighted_kernel_sum\u001B[0;34m(self, index, X, training)\u001B[0m\n\u001B[1;32m    293\u001B[0m     x_supp \u001B[38;5;241m=\u001B[39m \u001B[38;5;28mself\u001B[39m\u001B[38;5;241m.\u001B[39m_x_train[support_indices]\n\u001B[1;32m    294\u001B[0m \u001B[38;5;28;01mif\u001B[39;00m \u001B[38;5;129;01mnot\u001B[39;00m \u001B[38;5;28mself\u001B[39m\u001B[38;5;241m.\u001B[39m_precomputed:\n\u001B[1;32m    295\u001B[0m     \u001B[38;5;66;03m# evaluate kernel function only for the fixed datum and the support vectors\u001B[39;00m\n\u001B[0;32m--> 296\u001B[0m     kernel \u001B[38;5;241m=\u001B[39m \u001B[38;5;28;43mself\u001B[39;49m\u001B[38;5;241;43m.\u001B[39;49m\u001B[43m_quantum_kernel\u001B[49m\u001B[38;5;241;43m.\u001B[39;49m\u001B[43mevaluate\u001B[49m\u001B[43m(\u001B[49m\u001B[43mX\u001B[49m\u001B[43m[\u001B[49m\u001B[43mindex\u001B[49m\u001B[43m]\u001B[49m\u001B[43m,\u001B[49m\u001B[43m \u001B[49m\u001B[43mx_supp\u001B[49m\u001B[43m)\u001B[49m \u001B[38;5;241m+\u001B[39m \u001B[38;5;28mself\u001B[39m\u001B[38;5;241m.\u001B[39m_kernel_offset\n\u001B[1;32m    297\u001B[0m \u001B[38;5;28;01melse\u001B[39;00m:\n\u001B[1;32m    298\u001B[0m     kernel \u001B[38;5;241m=\u001B[39m X[index, support_indices]\n",
      "File \u001B[0;32m~/.local/lib/python3.10/site-packages/qiskit_machine_learning/kernels/quantum_kernel.py:519\u001B[0m, in \u001B[0;36mQuantumKernel.evaluate\u001B[0;34m(self, x_vec, y_vec)\u001B[0m\n\u001B[1;32m    517\u001B[0m     kernel \u001B[38;5;241m=\u001B[39m \u001B[38;5;28mself\u001B[39m\u001B[38;5;241m.\u001B[39m_calculate_kernel_statevector(x_vec, y_vec, is_symmetric, kernel)\n\u001B[1;32m    518\u001B[0m \u001B[38;5;28;01melse\u001B[39;00m:\n\u001B[0;32m--> 519\u001B[0m     kernel \u001B[38;5;241m=\u001B[39m \u001B[38;5;28;43mself\u001B[39;49m\u001B[38;5;241;43m.\u001B[39;49m\u001B[43m_calculate_kernel\u001B[49m\u001B[43m(\u001B[49m\u001B[43mx_vec\u001B[49m\u001B[43m,\u001B[49m\u001B[43m \u001B[49m\u001B[43my_vec\u001B[49m\u001B[43m,\u001B[49m\u001B[43m \u001B[49m\u001B[43mis_symmetric\u001B[49m\u001B[43m,\u001B[49m\u001B[43m \u001B[49m\u001B[43mkernel\u001B[49m\u001B[43m)\u001B[49m\n\u001B[1;32m    521\u001B[0m \u001B[38;5;28;01mreturn\u001B[39;00m kernel\n",
      "File \u001B[0;32m~/.local/lib/python3.10/site-packages/qiskit_machine_learning/kernels/quantum_kernel.py:654\u001B[0m, in \u001B[0;36mQuantumKernel._calculate_kernel\u001B[0;34m(self, x_vec, y_vec, is_symmetric, kernel)\u001B[0m\n\u001B[1;32m    649\u001B[0m \u001B[38;5;28;01mif\u001B[39;00m \u001B[38;5;28mself\u001B[39m\u001B[38;5;241m.\u001B[39m_quantum_instance\u001B[38;5;241m.\u001B[39mbound_pass_manager \u001B[38;5;129;01mis\u001B[39;00m \u001B[38;5;129;01mnot\u001B[39;00m \u001B[38;5;28;01mNone\u001B[39;00m:\n\u001B[1;32m    650\u001B[0m     circuits \u001B[38;5;241m=\u001B[39m \u001B[38;5;28mself\u001B[39m\u001B[38;5;241m.\u001B[39m_quantum_instance\u001B[38;5;241m.\u001B[39mtranspile(\n\u001B[1;32m    651\u001B[0m         circuits, pass_manager\u001B[38;5;241m=\u001B[39m\u001B[38;5;28mself\u001B[39m\u001B[38;5;241m.\u001B[39m_quantum_instance\u001B[38;5;241m.\u001B[39mbound_pass_manager\n\u001B[1;32m    652\u001B[0m     )\n\u001B[0;32m--> 654\u001B[0m results \u001B[38;5;241m=\u001B[39m \u001B[38;5;28;43mself\u001B[39;49m\u001B[38;5;241;43m.\u001B[39;49m\u001B[43m_quantum_instance\u001B[49m\u001B[38;5;241;43m.\u001B[39;49m\u001B[43mexecute\u001B[49m\u001B[43m(\u001B[49m\u001B[43mcircuits\u001B[49m\u001B[43m,\u001B[49m\u001B[43m \u001B[49m\u001B[43mhad_transpiled\u001B[49m\u001B[38;5;241;43m=\u001B[39;49m\u001B[38;5;28;43;01mTrue\u001B[39;49;00m\u001B[43m)\u001B[49m\n\u001B[1;32m    656\u001B[0m matrix_elements \u001B[38;5;241m=\u001B[39m [\n\u001B[1;32m    657\u001B[0m     \u001B[38;5;28mself\u001B[39m\u001B[38;5;241m.\u001B[39m_compute_overlap(circuit, results) \u001B[38;5;28;01mfor\u001B[39;00m circuit \u001B[38;5;129;01min\u001B[39;00m \u001B[38;5;28mrange\u001B[39m(\u001B[38;5;28mlen\u001B[39m(circuits))\n\u001B[1;32m    658\u001B[0m ]\n\u001B[1;32m    660\u001B[0m \u001B[38;5;28;01mfor\u001B[39;00m (i, j), value \u001B[38;5;129;01min\u001B[39;00m \u001B[38;5;28mzip\u001B[39m(to_be_computed_index, matrix_elements):\n",
      "File \u001B[0;32m~/.local/lib/python3.10/site-packages/qiskit/utils/quantum_instance.py:712\u001B[0m, in \u001B[0;36mQuantumInstance.execute\u001B[0;34m(self, circuits, had_transpiled)\u001B[0m\n\u001B[1;32m    709\u001B[0m                 result\u001B[38;5;241m.\u001B[39mresults[n] \u001B[38;5;241m=\u001B[39m tmp_result\u001B[38;5;241m.\u001B[39mresults[i]\n\u001B[1;32m    711\u001B[0m \u001B[38;5;28;01melse\u001B[39;00m:\n\u001B[0;32m--> 712\u001B[0m     result \u001B[38;5;241m=\u001B[39m \u001B[43mrun_circuits\u001B[49m\u001B[43m(\u001B[49m\n\u001B[1;32m    713\u001B[0m \u001B[43m        \u001B[49m\u001B[43mcircuits\u001B[49m\u001B[43m,\u001B[49m\n\u001B[1;32m    714\u001B[0m \u001B[43m        \u001B[49m\u001B[38;5;28;43mself\u001B[39;49m\u001B[38;5;241;43m.\u001B[39;49m\u001B[43m_backend\u001B[49m\u001B[43m,\u001B[49m\n\u001B[1;32m    715\u001B[0m \u001B[43m        \u001B[49m\u001B[43mqjob_config\u001B[49m\u001B[38;5;241;43m=\u001B[39;49m\u001B[38;5;28;43mself\u001B[39;49m\u001B[38;5;241;43m.\u001B[39;49m\u001B[43mqjob_config\u001B[49m\u001B[43m,\u001B[49m\n\u001B[1;32m    716\u001B[0m \u001B[43m        \u001B[49m\u001B[43mbackend_options\u001B[49m\u001B[38;5;241;43m=\u001B[39;49m\u001B[38;5;28;43mself\u001B[39;49m\u001B[38;5;241;43m.\u001B[39;49m\u001B[43mbackend_options\u001B[49m\u001B[43m,\u001B[49m\n\u001B[1;32m    717\u001B[0m \u001B[43m        \u001B[49m\u001B[43mnoise_config\u001B[49m\u001B[38;5;241;43m=\u001B[39;49m\u001B[38;5;28;43mself\u001B[39;49m\u001B[38;5;241;43m.\u001B[39;49m\u001B[43m_noise_config\u001B[49m\u001B[43m,\u001B[49m\n\u001B[1;32m    718\u001B[0m \u001B[43m        \u001B[49m\u001B[43mrun_config\u001B[49m\u001B[38;5;241;43m=\u001B[39;49m\u001B[38;5;28;43mself\u001B[39;49m\u001B[38;5;241;43m.\u001B[39;49m\u001B[43m_run_config\u001B[49m\u001B[38;5;241;43m.\u001B[39;49m\u001B[43mto_dict\u001B[49m\u001B[43m(\u001B[49m\u001B[43m)\u001B[49m\u001B[43m,\u001B[49m\n\u001B[1;32m    719\u001B[0m \u001B[43m        \u001B[49m\u001B[43mjob_callback\u001B[49m\u001B[38;5;241;43m=\u001B[39;49m\u001B[38;5;28;43mself\u001B[39;49m\u001B[38;5;241;43m.\u001B[39;49m\u001B[43m_job_callback\u001B[49m\u001B[43m,\u001B[49m\n\u001B[1;32m    720\u001B[0m \u001B[43m        \u001B[49m\u001B[43mmax_job_retries\u001B[49m\u001B[38;5;241;43m=\u001B[39;49m\u001B[38;5;28;43mself\u001B[39;49m\u001B[38;5;241;43m.\u001B[39;49m\u001B[43m_max_job_retries\u001B[49m\u001B[43m,\u001B[49m\n\u001B[1;32m    721\u001B[0m \u001B[43m    \u001B[49m\u001B[43m)\u001B[49m\n\u001B[1;32m    722\u001B[0m     \u001B[38;5;28mself\u001B[39m\u001B[38;5;241m.\u001B[39m_time_taken \u001B[38;5;241m+\u001B[39m\u001B[38;5;241m=\u001B[39m result\u001B[38;5;241m.\u001B[39mtime_taken\n\u001B[1;32m    724\u001B[0m \u001B[38;5;28;01mif\u001B[39;00m \u001B[38;5;28mself\u001B[39m\u001B[38;5;241m.\u001B[39m_circuit_summary:\n",
      "File \u001B[0;32m~/.local/lib/python3.10/site-packages/qiskit/utils/run_circuits.py:226\u001B[0m, in \u001B[0;36mrun_circuits\u001B[0;34m(circuits, backend, qjob_config, backend_options, noise_config, run_config, job_callback, max_job_retries)\u001B[0m\n\u001B[1;32m    224\u001B[0m     \u001B[38;5;28;01mif\u001B[39;00m job_callback \u001B[38;5;129;01mis\u001B[39;00m \u001B[38;5;129;01mnot\u001B[39;00m \u001B[38;5;28;01mNone\u001B[39;00m:\n\u001B[1;32m    225\u001B[0m         job_callback(job_id, job_status, queue_position, job)\n\u001B[0;32m--> 226\u001B[0m     \u001B[43mtime\u001B[49m\u001B[38;5;241;43m.\u001B[39;49m\u001B[43msleep\u001B[49m\u001B[43m(\u001B[49m\u001B[43mqjob_config\u001B[49m\u001B[43m[\u001B[49m\u001B[38;5;124;43m\"\u001B[39;49m\u001B[38;5;124;43mwait\u001B[39;49m\u001B[38;5;124;43m\"\u001B[39;49m\u001B[43m]\u001B[49m\u001B[43m)\u001B[49m\n\u001B[1;32m    228\u001B[0m \u001B[38;5;66;03m# get result after the status is DONE\u001B[39;00m\n\u001B[1;32m    229\u001B[0m \u001B[38;5;28;01mif\u001B[39;00m job_status \u001B[38;5;241m==\u001B[39m JobStatus\u001B[38;5;241m.\u001B[39mDONE:\n",
      "\u001B[0;31mKeyboardInterrupt\u001B[0m: "
     ]
    }
   ],
   "source": [
    "from qiskit_machine_learning.kernels import QuantumKernel\n",
    "\n",
    "algorithm_globals.random_seed = 12345\n",
    "\n",
    "feature_map = ZFeatureMap(feature_dimension=num_qubits, reps=1)\n",
    "\n",
    "pegasos_backend = QuantumInstance(backend = device)\n",
    "\n",
    "qkernel = QuantumKernel(feature_map=feature_map, quantum_instance=pegasos_backend)\n",
    "\n",
    "pegasos_qsvc = PegasosQSVC(quantum_kernel=qkernel, C=C, num_steps=tau)\n",
    "\n",
    "pegasos_qsvc.fit(train_features, train_labels)\n",
    "\n",
    "\n",
    "# testing\n",
    "pegasos_score = pegasos_qsvc.score(test_features, test_labels)\n",
    "print(f\"PegasosQSVC classification test score: {pegasos_score}\")"
   ]
  }
 ],
 "metadata": {
  "kernelspec": {
   "display_name": "Python 3 (ipykernel)",
   "language": "python",
   "name": "python3"
  },
  "language_info": {
   "codemirror_mode": {
    "name": "ipython",
    "version": 3
   },
   "file_extension": ".py",
   "mimetype": "text/x-python",
   "name": "python",
   "nbconvert_exporter": "python",
   "pygments_lexer": "ipython3",
   "version": "3.8.12"
  }
 },
 "nbformat": 4,
 "nbformat_minor": 5
}
